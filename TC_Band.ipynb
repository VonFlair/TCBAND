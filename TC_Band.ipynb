{
 "cells": [
  {
   "cell_type": "code",
   "execution_count": 155,
   "metadata": {},
   "outputs": [],
   "source": [
    "import pandas as pd\n",
    "import openpyxl\n",
    "\n"
   ]
  },
  {
   "cell_type": "code",
   "execution_count": 156,
   "metadata": {},
   "outputs": [
    {
     "name": "stderr",
     "output_type": "stream",
     "text": [
      "c:\\Users\\feng_j\\AppData\\Local\\Programs\\Python\\Python312\\Lib\\site-packages\\openpyxl\\styles\\stylesheet.py:241: UserWarning: Workbook contains no default style, apply openpyxl's default\n",
      "  warn(\"Workbook contains no default style, apply openpyxl's default\")\n"
     ]
    },
    {
     "name": "stdout",
     "output_type": "stream",
     "text": [
      "['5G (RedCap)', '5G (RedCap_RX1 Handover)', '5G (RedCap_RX1)', '5G (RedCap Handover)']\n",
      "(5319, 17)\n",
      "   NUM   TC  TC_BAND\n",
      "0  292  260     2830\n",
      "1  168  239     2294\n",
      "2  207  238     2234\n",
      "3  251  238     2404\n",
      "4  300  227     2167\n"
     ]
    }
   ],
   "source": [
    "def count(x,value):\n",
    "    return (x == value).sum()\n",
    "\n",
    "UE = ['2UE Validated\\nTest Platforms','2UE Validated\\nTest Platforms','1UE Validated\\nTest Platforms','1UE Validated Test Platforms with Exceptions']\n",
    "NUM = ['292','168','207','251','300'] \n",
    "num_list = []\n",
    "Case_count_list = []\n",
    "Band_count_list = []\n",
    "df_list = []\n",
    "\n",
    "# Setting Input & Output Path\n",
    "file_path = 'C:\\\\Users\\\\feng_j\\\\Desktop\\\\project1\\\\3.92.0_20240429_r071_noTPCVInfo - Copy.xlsx'\n",
    "target_path = 'C:\\\\Users\\\\feng_j\\\\Desktop\\\\project1\\\\Summary.xlsx'\n",
    "Excel_file = pd.ExcelFile(file_path)\n",
    "\n",
    "RedCap_Sheets = [sheet for sheet in Excel_file.sheet_names if 'RedCap' in sheet]\n",
    "print(RedCap_Sheets)\n",
    "\n",
    "for sheet in RedCap_Sheets:\n",
    "    df = pd.read_excel(Excel_file,sheet_name=sheet,skiprows=1,engine='openpyxl',index_col=None)\n",
    "    df_list.append(df)\n",
    "df = pd.concat(df_list,ignore_index=True)\n",
    "print(df.shape)\n",
    "\n",
    "# Filter the Protocal\n",
    "column_names = df.columns\n",
    "df = df[df['Specification']=='38.523-1']\n",
    "\n",
    "\n",
    "df['TC'] = df[UE].fillna('').apply(lambda x: ','.join(x.astype(str)),axis=1)\n",
    "for num in NUM:\n",
    "    num_list.append(num)\n",
    "    # Tester\n",
    "    df[f'TC_{num}']= ''\n",
    "    df.loc[df['TC'].str.contains(num,na=False),f'TC_{num}'] = num\n",
    "    # TC and TC_BAND\n",
    "    Case_count = df[df[f'TC_{num}']==num]['Test Case'].nunique()\n",
    "    Band_count = df[f'TC_{num}'].apply(lambda x: x == num).sum()\n",
    "    Case_count_list.append(Case_count)\n",
    "    Band_count_list.append(Band_count)\n",
    "    \n",
    "df_summary = pd.DataFrame({'NUM':num_list,'TC':Case_count_list,'TC_BAND':Band_count_list})\n",
    "print(df_summary)\n",
    "    \n",
    "del df['TC']\n",
    "\n",
    "\n",
    "df_copy = df.copy()\n",
    "\n",
    "\n",
    "\n",
    "with pd.ExcelWriter(target_path, engine='openpyxl') as writer:\n",
    "    df.to_excel(writer, sheet_name='RedCap Combined Sheet',index=False)\n",
    "    df_summary.to_excel(writer,sheet_name='Summary',index=False)\n",
    "    "
   ]
  }
 ],
 "metadata": {
  "kernelspec": {
   "display_name": "Python 3",
   "language": "python",
   "name": "python3"
  },
  "language_info": {
   "codemirror_mode": {
    "name": "ipython",
    "version": 3
   },
   "file_extension": ".py",
   "mimetype": "text/x-python",
   "name": "python",
   "nbconvert_exporter": "python",
   "pygments_lexer": "ipython3",
   "version": "3.12.4"
  }
 },
 "nbformat": 4,
 "nbformat_minor": 2
}
